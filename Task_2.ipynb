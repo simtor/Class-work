{
 "cells": [
  {
   "cell_type": "code",
   "execution_count": 13,
   "metadata": {},
   "outputs": [
    {
     "name": "stdout",
     "output_type": "stream",
     "text": [
      "what is you tempeture outside -6\n",
      "Stay in your house\n"
     ]
    }
   ],
   "source": [
    "weather = int(input(\"what is you tempeture outside \"))\n",
    "if (weather >=30) and weather <50:\n",
    "    print(\"wear shorts\")\n",
    "elif (weather <=29) and weather >10:\n",
    "    print (\"wear a hat my dude\")\n",
    "else:\n",
    "    print(\"Stay in your house\")"
   ]
  },
  {
   "cell_type": "code",
   "execution_count": null,
   "metadata": {
    "collapsed": true
   },
   "outputs": [],
   "source": []
  }
 ],
 "metadata": {
  "kernelspec": {
   "display_name": "Python 3",
   "language": "python",
   "name": "python3"
  },
  "language_info": {
   "codemirror_mode": {
    "name": "ipython",
    "version": 3
   },
   "file_extension": ".py",
   "mimetype": "text/x-python",
   "name": "python",
   "nbconvert_exporter": "python",
   "pygments_lexer": "ipython3",
   "version": "3.5.2"
  }
 },
 "nbformat": 4,
 "nbformat_minor": 2
}
